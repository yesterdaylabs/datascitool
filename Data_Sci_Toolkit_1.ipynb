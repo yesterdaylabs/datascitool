{
 "cells": [
  {
   "cell_type": "markdown",
   "id": "a1b52bfb-a166-4d4d-b4a7-4cc829f9da3f",
   "metadata": {},
   "source": [
    "# **Data Science Tools and Ecosystem**"
   ]
  },
  {
   "cell_type": "markdown",
   "id": "084283dd-7e3f-4132-bee5-5ec9c591e504",
   "metadata": {},
   "source": [
    "In this notebook, Data Science Tools and Ecosystem are summarized."
   ]
  },
  {
   "cell_type": "markdown",
   "id": "42ff39bc-0b00-4421-90d6-9ecf45e3a70b",
   "metadata": {},
   "source": [
    "### **Objectives**"
   ]
  },
  {
   "cell_type": "code",
   "execution_count": 218,
   "id": "283faf96-f4e4-4bd4-afed-c5f5578d35b9",
   "metadata": {},
   "outputs": [
    {
     "name": "stdout",
     "output_type": "stream",
     "text": [
      "* Convert Time\n",
      "* Complete Basic Arithmetic\n",
      "* Create a Table\n",
      "* List Popular Data Science Libraries\n",
      "* List Popular Data Science Languages\n"
     ]
    }
   ],
   "source": [
    "objectives = {'List Popular Data Science Languages', 'List Popular Data Science Libraries', 'Create a Table', 'Complete Basic Arithmetic', 'Convert Time'}\n",
    "for item in objectives:\n",
    "    print(f'* {item}')"
   ]
  },
  {
   "cell_type": "markdown",
   "id": "b61484c0-1803-4f88-9d19-b18cd49fd820",
   "metadata": {},
   "source": [
    "### Data Science Languages"
   ]
  },
  {
   "cell_type": "code",
   "execution_count": 96,
   "id": "c40eef11-9746-4da1-8a8f-4c4c2752c24e",
   "metadata": {},
   "outputs": [
    {
     "name": "stdout",
     "output_type": "stream",
     "text": [
      "['SQL', 'Python', 'R']\n"
     ]
    }
   ],
   "source": [
    "### Ordered List of Data Science Languages\n",
    "DS_Lang = ['SQL', 'Python', 'R']\n",
    "print(DS_Tools)"
   ]
  },
  {
   "cell_type": "code",
   "execution_count": 68,
   "id": "848b9046-975d-4ca4-a489-433a114bab7a",
   "metadata": {},
   "outputs": [
    {
     "name": "stdout",
     "output_type": "stream",
     "text": [
      "1.SQL\n",
      "2.Python\n",
      "3.R\n"
     ]
    }
   ],
   "source": [
    "### for Loop to produce a numerical list of the DS_Lang\n",
    "for index, tool in enumerate(DS_Lang, start=1):\n",
    "    print(f'{index}.{tool}')"
   ]
  },
  {
   "cell_type": "markdown",
   "id": "cf6e5092-9a2a-41b5-91a9-e0a358651a6c",
   "metadata": {},
   "source": [
    "### Data Science Libraries"
   ]
  },
  {
   "cell_type": "code",
   "execution_count": 70,
   "id": "bbd085f9-956a-4fc3-a015-eccb68761a1a",
   "metadata": {},
   "outputs": [
    {
     "name": "stdout",
     "output_type": "stream",
     "text": [
      "1.Pandas\n",
      "2.Numpy\n",
      "3.Matplotlib\n"
     ]
    }
   ],
   "source": [
    "### Ordered List of Data Science Librariess\n",
    "DS_Libs = ['Pandas', 'Numpy', 'Matplotlib']\n",
    "for index, tool in enumerate(DS_Libs, start=1):\n",
    "    print(f'{index}.{tool}')"
   ]
  },
  {
   "cell_type": "markdown",
   "id": "8a95a62b-1c0a-4051-9cc8-8be3ea4838bc",
   "metadata": {},
   "source": [
    "### Data Science Table"
   ]
  },
  {
   "cell_type": "code",
   "execution_count": null,
   "id": "6a521ec5-7b19-4052-a39a-2f117a347467",
   "metadata": {
    "tags": []
   },
   "outputs": [
    {
     "name": "stdout",
     "output_type": "stream",
     "text": [
      "    Tools   Libraries\n",
      "0     SQL      Pandas\n",
      "1  Python       Numpy\n",
      "2       R  Matplotlib\n"
     ]
    }
   ],
   "source": [
    "import pandas as pd\n",
    "data = {\n",
    "    'Tools': ['SQL', 'Python', 'R'],\n",
    "    'Libraries': ['Pandas', 'Numpy', 'Matplotlib']\n",
    "}\n",
    "DS_Table = pd.DataFrame(data)\n",
    "print(DS_Table)"
   ]
  },
  {
   "cell_type": "markdown",
   "id": "08106ce4-7fdd-4905-ad1c-b1453adbad3e",
   "metadata": {},
   "source": [
    "### Arithmetic in Python"
   ]
  },
  {
   "cell_type": "code",
   "execution_count": 94,
   "id": "642e7e3b-de3f-46af-8e93-92aa23fdbc87",
   "metadata": {},
   "outputs": [],
   "source": [
    "a = 1+2\n",
    "b = 1*2\n",
    "c = 1**2\n",
    "d = 1//2\n",
    "e = 1%2\n",
    "f = (1+2) * 3"
   ]
  },
  {
   "cell_type": "code",
   "execution_count": 114,
   "id": "f371deb2-a596-4f88-ae62-e8e99e048c01",
   "metadata": {},
   "outputs": [
    {
     "name": "stdout",
     "output_type": "stream",
     "text": [
      "(3, 2, 1, 0, 1, 9)\n"
     ]
    }
   ],
   "source": [
    "result = (a,b,c,d,e,f) \n",
    "print(result)"
   ]
  },
  {
   "cell_type": "code",
   "execution_count": 137,
   "id": "ff76e5cf-d6ee-48ae-87d4-b11bc355b838",
   "metadata": {},
   "outputs": [
    {
     "name": "stdout",
     "output_type": "stream",
     "text": [
      "a.3\n",
      "b.2\n",
      "c.1\n",
      "d.0\n",
      "e.1\n",
      "f.9\n"
     ]
    }
   ],
   "source": [
    "## use a forloop and the String library to produce an alpha list\n",
    "\n",
    "import string\n",
    "for index, tool in zip(string.ascii_lowercase, result):\n",
    "    print(f'{index}.{tool}')"
   ]
  },
  {
   "cell_type": "markdown",
   "id": "1e8fcf5b-c7fc-4265-831a-1e415c1332ab",
   "metadata": {},
   "source": [
    "### Multiplication + Addition in Python (PEMDAS)"
   ]
  },
  {
   "cell_type": "code",
   "execution_count": 142,
   "id": "09c04cd8-fb6f-4338-bd66-fd22c40c0dff",
   "metadata": {},
   "outputs": [
    {
     "name": "stdout",
     "output_type": "stream",
     "text": [
      "17\n"
     ]
    }
   ],
   "source": [
    "x = (3*4)+5\n",
    "print(x)"
   ]
  },
  {
   "cell_type": "markdown",
   "id": "d966d0ed-af2c-463e-b37e-495044d499cb",
   "metadata": {},
   "source": [
    "### Convert Minutes to Hours in Python"
   ]
  },
  {
   "cell_type": "code",
   "execution_count": 198,
   "id": "5653ad08-e05e-4cf1-8fc4-bbe0280ac8bf",
   "metadata": {},
   "outputs": [],
   "source": [
    "## Define the Conversion function \"convert_time)\" as applied to \"minutes\"\n",
    "## hours are equal to minutes divided by 60\n",
    "## the remainding minutes \"rem_mins\" then returns the Modulus %, remainder of the hours divided by 60 \n",
    "def convert_time(minutes):\n",
    "    hours = minutes // 60\n",
    "    rem_mins = minutes % 60\n",
    "    return hours, rem_mins"
   ]
  },
  {
   "cell_type": "code",
   "execution_count": 200,
   "id": "8f82edf9-482a-440c-907a-83bb667e7ba4",
   "metadata": {},
   "outputs": [
    {
     "data": {
      "text/plain": [
       "(3, 20)"
      ]
     },
     "execution_count": 200,
     "metadata": {},
     "output_type": "execute_result"
    }
   ],
   "source": [
    "convert_time(200)"
   ]
  },
  {
   "cell_type": "markdown",
   "id": "fb91bd21-c520-43d8-9bca-615773a4cfb2",
   "metadata": {},
   "source": [
    "#### Notbeook Author J. Scott"
   ]
  }
 ],
 "metadata": {
  "kernelspec": {
   "display_name": "anaconda-panel-2023.05-py310",
   "language": "python",
   "name": "conda-env-anaconda-panel-2023.05-py310-py"
  },
  "language_info": {
   "codemirror_mode": {
    "name": "ipython",
    "version": 3
   },
   "file_extension": ".py",
   "mimetype": "text/x-python",
   "name": "python",
   "nbconvert_exporter": "python",
   "pygments_lexer": "ipython3",
   "version": "3.11.5"
  }
 },
 "nbformat": 4,
 "nbformat_minor": 5
}
